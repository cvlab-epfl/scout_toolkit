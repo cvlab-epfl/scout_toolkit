{
 "cells": [
  {
   "cell_type": "code",
   "execution_count": 1,
   "id": "8e3c2e8a",
   "metadata": {},
   "outputs": [],
   "source": [
    "import json"
   ]
  },
  {
   "cell_type": "code",
   "execution_count": 3,
   "id": "1c7c95a8",
   "metadata": {},
   "outputs": [
    {
     "data": {
      "text/plain": [
       "{'cvlabrpi10': 'cam0',\n",
       " 'cvlabrpi21': 'cam1',\n",
       " 'cvlabrpi13': 'cam2',\n",
       " 'cvlabrpi12': 'cam3',\n",
       " 'cvlabrpi7': 'cam4',\n",
       " 'cvlabrpi19': 'cam5',\n",
       " 'cvlabrpi24': 'cam6',\n",
       " 'cvlabrpi5': 'cam7',\n",
       " 'cvlabrpi23': 'cam8',\n",
       " 'cvlabrpi3': 'cam9',\n",
       " 'cvlabrpi2': 'cam10',\n",
       " 'cvlabrpi4': 'cam11',\n",
       " 'cvlabrpi1': 'cam12',\n",
       " 'cvlabrpi22': 'cam13',\n",
       " 'cvlabrpi11': 'cam14',\n",
       " 'cvlabrpi8': 'cam15',\n",
       " 'cvlabrpi26': 'cam16',\n",
       " 'cvlabrpi17': 'cam17',\n",
       " 'cvlabrpi14': 'cam18',\n",
       " 'cvlabrpi25': 'cam19',\n",
       " 'cvlabrpi6': 'cam20',\n",
       " 'cvlabrpi9': 'cam21',\n",
       " 'cvlabrpi18': 'cam22',\n",
       " 'cvlabrpi15': 'cam23',\n",
       " 'cvlabrpi16': 'cam24'}"
      ]
     },
     "execution_count": 3,
     "metadata": {},
     "output_type": "execute_result"
    }
   ],
   "source": [
    "{f'cvlabrpi{i}':f'cam{new}' for new, i in enumerate([10,21,13,12,7,19,24,5,23,3,2,4,1,22,11,8,26,17,14,25,6,9,18,15,16])}"
   ]
  },
  {
   "cell_type": "code",
   "execution_count": null,
   "id": "f6c479f5",
   "metadata": {},
   "outputs": [],
   "source": []
  }
 ],
 "metadata": {
  "kernelspec": {
   "display_name": "control",
   "language": "python",
   "name": "python3"
  },
  "language_info": {
   "codemirror_mode": {
    "name": "ipython",
    "version": 3
   },
   "file_extension": ".py",
   "mimetype": "text/x-python",
   "name": "python",
   "nbconvert_exporter": "python",
   "pygments_lexer": "ipython3",
   "version": "3.10.15"
  }
 },
 "nbformat": 4,
 "nbformat_minor": 5
}
