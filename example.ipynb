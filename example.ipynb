{
 "cells": [
  {
   "cell_type": "markdown",
   "metadata": {},
   "source": [
    "# Loading 2D Annotations"
   ]
  },
  {
   "cell_type": "code",
   "execution_count": null,
   "metadata": {},
   "outputs": [],
   "source": [
    "from src.loading import Coco\n",
    "rootdir = '/path/to/scout/'\n",
    "coco = Coco(rootdir, sequence =1)\n",
    "# use `coco_dict = coco.load()` to gain the full coco annotations\n",
    "img = coco.annotate_frame(0, 'cam_0')\n",
    "coco.show_frame(img)\n"
   ]
  },
  {
   "cell_type": "code",
   "execution_count": null,
   "metadata": {},
   "outputs": [],
   "source": [
    "# Annotations loaded only for single frame and camera\n",
    "from src.loading import Individual\n",
    "rootdir = '.'\n",
    "indiv = Individual(rootdir, sequence =1)\n",
    "img = indiv.annotate_frame(81, 'cam_2')\n",
    "indiv.show_frame(img)"
   ]
  },
  {
   "cell_type": "code",
   "execution_count": null,
   "metadata": {},
   "outputs": [],
   "source": [
    "from src.loading import MOT\n",
    "rootdir = '.'\n",
    "mot = MOT(rootdir, sequence =1)\n",
    "img = mot.annotate_frame(0, 'cam_0')\n",
    "mot.show_frame(img)"
   ]
  },
  {
   "cell_type": "code",
   "execution_count": null,
   "metadata": {},
   "outputs": [],
   "source": [
    "\n",
    "from src.loading import AnnotationDataset, collate_fn, Individual\n",
    "from torch.utils.data import DataLoader\n",
    "\n",
    "loader = Individual(root_dir=\".\", sequence=1)\n",
    "frame_ids = list(range(100))           # or your custom list\n",
    "cam_ids =  [\"cam_0\", \"cam_2\"]# or any available cams\n",
    "\n",
    "dataset = AnnotationDataset(loader, frame_ids, cam_ids)\n",
    "dataloader = DataLoader(dataset, batch_size=8, shuffle=True, collate_fn=collate_fn, num_workers=4)"
   ]
  },
  {
   "cell_type": "code",
   "execution_count": null,
   "metadata": {},
   "outputs": [],
   "source": [
    "from src.visualisation import draw_annotation\n",
    "import matplotlib.pyplot as plt\n",
    "import cv2\n",
    "import numpy as np\n",
    "\n",
    "batch = next(iter(dataloader))\n",
    "image = (batch['images'][0].numpy().transpose(1, 2, 0) * 255.0).astype(np.uint8)\n",
    "cam_id = batch['cam_ids'][0]\n",
    "frame_id = batch['frame_ids'][0]\n",
    "annotations = batch['bboxes'][0]\n",
    "track_ids = batch['track_ids'][0]\n",
    "timestamp = batch['timestamps'][0]\n",
    "\n",
    "for i, bbox in enumerate(annotations):\n",
    "    image = draw_annotation(image, bbox, track_ids[i])\n",
    "\n",
    "# Show\n",
    "plt.figure(figsize=(8, 6))\n",
    "plt.imshow(cv2.cvtColor(image, cv2.COLOR_BGR2RGB))\n",
    "plt.title(f\"Cam: {cam_id}, Frame: {frame_id}, Timestamp: {timestamp}s\")\n",
    "plt.axis('off')\n",
    "plt.show()"
   ]
  },
  {
   "cell_type": "markdown",
   "metadata": {},
   "source": [
    "# 3D Mesh Loading"
   ]
  },
  {
   "cell_type": "code",
   "execution_count": null,
   "metadata": {},
   "outputs": [],
   "source": [
    "import trimesh\n",
    "from pathlib import Path\n",
    "rootdir = \".\"\n",
    "mesh_paths = Path(rootdir) / 'dataset' / 'mesh'\n",
    "high_resolution_mesh = trimesh.load(mesh_paths / 'high_resolution_mesh.ply')\n",
    "low_resolution_mesh = trimesh.load(mesh_paths / 'low_resolution_mesh.ply')"
   ]
  },
  {
   "cell_type": "markdown",
   "metadata": {},
   "source": [
    "# Visualising Predictions\n",
    "\n",
    "downloaded:\n",
    "    - dataset\n",
    "        - mesh\n",
    "        - images\n",
    "        \n",
    "\n"
   ]
  },
  {
   "cell_type": "code",
   "execution_count": null,
   "metadata": {},
   "outputs": [],
   "source": [
    "from src.visualisation import draw_3d\n",
    "from src.geometry import bbox_to_mesh\n",
    "from src.loading import load_calibration, Individual\n",
    "import numpy as np\n",
    "\n",
    "rootdir = '.'\n",
    "cam_name = 'cam_0'\n",
    "calibration = load_calibration('.', cam_name, sequence = 1)\n",
    "indiv = Individual(rootdir, sequence =1)\n",
    "\n",
    "\n",
    "frame_id = 100\n",
    "\n",
    "annotation = indiv.retrieve(frame_id, cam_name)[0]\n",
    "projected_3d = bbox_to_mesh(annotation['bbox'], calibration, high_resolution_mesh)\n",
    "world_coordinate = np.array([annotation['world']['Xw'], annotation['world']['Yw'], annotation['world']['Zw']])\n",
    "draw_3d(np.stack([world_coordinate, projected_3d[0]]), low_resolution_mesh)"
   ]
  },
  {
   "cell_type": "code",
   "execution_count": null,
   "metadata": {},
   "outputs": [],
   "source": []
  }
 ],
 "metadata": {
  "kernelspec": {
   "display_name": "Python 3",
   "language": "python",
   "name": "python3"
  },
  "language_info": {
   "codemirror_mode": {
    "name": "ipython",
    "version": 3
   },
   "file_extension": ".py",
   "mimetype": "text/x-python",
   "name": "python",
   "nbconvert_exporter": "python",
   "pygments_lexer": "ipython3",
   "version": "3.11.10"
  }
 },
 "nbformat": 4,
 "nbformat_minor": 2
}
